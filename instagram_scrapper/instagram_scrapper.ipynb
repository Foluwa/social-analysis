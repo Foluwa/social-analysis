{
 "cells": [
  {
   "cell_type": "code",
   "execution_count": 33,
   "metadata": {},
   "outputs": [],
   "source": [
    "import urllib.request\n",
    "import json\n",
    "import ast\n",
    "from datetime import datetime\n"
   ]
  },
  {
   "cell_type": "code",
   "execution_count": null,
   "metadata": {},
   "outputs": [],
   "source": [
    "url = 'https://www.instagram.com/fantasticfoluwa/?__a=1'\n",
    "data = urllib.request.urlopen(url)\n",
    "data = data.read()\n",
    "print(data)\n"
   ]
  },
  {
   "cell_type": "code",
   "execution_count": 13,
   "metadata": {},
   "outputs": [
    {
     "name": "stdout",
     "output_type": "stream",
     "text": [
      "<class 'bytes'>\n"
     ]
    }
   ],
   "source": [
    "type(data)\n",
    "print(type(data))\n",
    "user_account = json.loads(data)\n"
   ]
  },
  {
   "cell_type": "code",
   "execution_count": 14,
   "metadata": {},
   "outputs": [
    {
     "name": "stdout",
     "output_type": "stream",
     "text": [
      "Software Engineer @webcoupers  |  @Udacity Alumni\n",
      "CAJRKCKDZRR\n"
     ]
    }
   ],
   "source": [
    "user_biography = user_account['graphql']['user']['biography']\n",
    "user_post_node = user_account['graphql']['user']['edge_owner_to_timeline_media']['edges'][0]['node']['shortcode']\n",
    "print(user_biography)\n",
    "print(user_post_node)"
   ]
  },
  {
   "cell_type": "code",
   "execution_count": 15,
   "metadata": {},
   "outputs": [],
   "source": [
    "# user following\n",
    "# user followers count\n",
    "# fullname\n",
    "# user id\n",
    "# user if business account\n",
    "# user is private\n",
    "# user is verified\n",
    "# check if has `has_next_page` to load more data"
   ]
  },
  {
   "cell_type": "markdown",
   "metadata": {},
   "source": [
    "# Retrieve user post comments"
   ]
  },
  {
   "cell_type": "code",
   "execution_count": null,
   "metadata": {},
   "outputs": [],
   "source": [
    "url = 'https://www.instagram.com/p/B_4-TVKFu3N/?__a=1'\n",
    "data = urllib.request.urlopen(url)\n",
    "data = data.read()\n",
    "print(data)"
   ]
  },
  {
   "cell_type": "code",
   "execution_count": 17,
   "metadata": {},
   "outputs": [],
   "source": [
    "user_post = json.loads(data)"
   ]
  },
  {
   "cell_type": "code",
   "execution_count": null,
   "metadata": {},
   "outputs": [],
   "source": [
    "# user post owner user name\n",
    "user_post_owner_username = user_post['graphql']['shortcode_media']['owner']['username']\n",
    "print(user_post_owner_username)\n",
    "\n",
    "# user post owner fullname\n",
    "user_post_owner_full_name = user_post['graphql']['shortcode_media']['owner']['full_name']\n",
    "# print(user_post_owner_full_name)\n",
    "\n",
    "# check if viewer are blocked\n",
    "user_post_blocked_viewer = user_post['graphql']['shortcode_media']['owner']['blocked_by_viewer']\n",
    "# print(user_post_blocked_viewer)\n",
    "\n",
    "# Check if comments is not disabled\n",
    "# Returns True if comments are disabled and false if not disabled\n",
    "user_post_comments = user_post['graphql']['shortcode_media']['comments_disabled']\n",
    "print(user_post_comments)\n",
    "\n",
    "# returns link to user post image\n",
    "user_post_image = user_post['graphql']['shortcode_media']['display_url']\n",
    "print(user_post_image)\n",
    "\n",
    "# returns false if the user post is not a video\n",
    "user_post_if_video = user_post['graphql']['shortcode_media']['is_video']\n",
    "print(user_post_if_video)\n",
    "\n",
    "# get all tagged users\n",
    "user_post_tagged_users = user_post['graphql']['shortcode_media']['edge_media_to_tagged_user']\n",
    "# print(user_post_tagged_users)\n",
    "\n",
    "# get user post caption \n",
    "user_post_caption = user_post['graphql']['shortcode_media']['edge_media_to_caption']['edges'][0]['node']['text']\n",
    "# print(user_post_caption)\n",
    "\n",
    "# Always check if comments count is equals to comment length\n",
    "# get number of comments count \n",
    "user_post_comments_count = user_post['graphql']['shortcode_media']['edge_media_to_parent_comment']['count']\n",
    "# print(user_post_comments_count)\n",
    "\n",
    "# find length\n",
    "comment_length = len(user_post['graphql']['shortcode_media']['edge_media_to_parent_comment']['edges'])\n",
    "# print(comment_length)\n",
    "\n",
    "# check if post has next page \n",
    "user_post_comments_has_next_page = user_post['graphql']['shortcode_media']['edge_media_to_parent_comment']['page_info']['has_next_page']\n",
    "#print(user_post_comments_has_next_page)\n",
    "\n",
    "# user post comments \n",
    "user_post_comments = user_post['graphql']['shortcode_media']['edge_media_to_parent_comment']['edges'][0]['node']['text']\n",
    "# print(user_post_comments)\n",
    "\n",
    "\n",
    "\n",
    "# if you encounter a \"year is out of range\" error the timestamp\n",
    "# may be in milliseconds, try `ts /= 1000` in that case\n",
    "# https://stackoverflow.com/questions/3682748/converting-unix-timestamp-string-to-readable-date\n",
    "# user post comments time\n",
    "user_post_comments_time = user_post['graphql']['shortcode_media']['edge_media_to_parent_comment']['edges'][0]['node']['created_at']\n",
    "user_post_comments_time = datetime.utcfromtimestamp(user_post_comments_time).strftime('%Y-%m-%d %H:%M:%S')\n",
    "print(user_post_comments_time)\n",
    "\n",
    "# time user posted the post\n",
    "user_post_taken_at_timestamp = user_post['graphql']['shortcode_media']['taken_at_timestamp']\n",
    "user_post_taken_at_timestamp = datetime.utcfromtimestamp(user_post_taken_at_timestamp).strftime('%Y-%m-%d %H:%M:%S')\n",
    "print(user_post_taken_at_timestamp)\n"
   ]
  },
  {
   "cell_type": "code",
   "execution_count": 34,
   "metadata": {},
   "outputs": [],
   "source": [
    "result = {'weekday': {'Sunday': 13, 'Monday': 4}, 'sentiment': {'NEUTRAL': 11, 'POSITIVE': 6, 'NEGATIVE': 0}}"
   ]
  },
  {
   "cell_type": "code",
   "execution_count": 35,
   "metadata": {},
   "outputs": [],
   "source": [
    "retrieved = [{'date': '2020-05-14 02:32:45', 'weekday': 'Monday', 'text': '😍', 'polarity': 0.0, 'subjectivity': 0.0, 'sentiment': 'NEUTRAL'}, {'date': '2020-05-14 08:16:42', 'weekday': 'Monday', 'text': 'Lit 💯💯', 'polarity': 0.0, 'subjectivity': 0.0, 'sentiment': 'NEUTRAL'}, {'date': '2020-01-19 05:29:04', 'weekday': 'Monday', 'text': 'Congratulations 🍾', 'polarity': 0.0, 'subjectivity': 0.0, 'sentiment': 'NEUTRAL'}, {'date': '2020-01-19 19:41:26', 'weekday': 'Monday', 'text': '🙌🙌🙌', 'polarity': 0.0, 'subjectivity': 0.0, 'sentiment': 'NEUTRAL'}, {'date': '2019-02-11 07:47:58', 'weekday': 'Sunday', 'text': '🤝👏👏👏👏👏', 'polarity': 0.0, 'subjectivity': 0.0, 'sentiment': 'NEUTRAL'}, {'date': '2019-01-31 10:36:11', 'weekday': 'Sunday', 'text': 'More feathers to your cap hun 😍💕💞💕💞', 'polarity': 0.5, 'subjectivity': 0.5, 'sentiment': 'POSITIVE'}, {'date': '2019-01-31 14:25:46', 'weekday': 'Sunday', 'text': '@deronke_akin thanks', 'polarity': 0.2, 'subjectivity': 0.2, 'sentiment': 'POSITIVE'}, {'date': '2019-01-28 01:45:43', 'weekday': 'Sunday', 'text': '👌🏼', 'polarity': 0.0, 'subjectivity': 0.0, 'sentiment': 'NEUTRAL'}, {'date': '2019-03-02 20:20:13', 'weekday': 'Sunday', 'text': '👍👍👍..', 'polarity': 0.0, 'subjectivity': 0.0, 'sentiment': 'NEUTRAL'}, {'date': '2019-01-24 17:03:18', 'weekday': 'Sunday', 'text': '@deronke_akin  thanks darling', 'polarity': 0.2, 'subjectivity': 0.2, 'sentiment': 'POSITIVE'}, {'date': '2019-01-24 17:46:42', 'weekday': 'Sunday', 'text': '@tolu_mento yes!!!', 'polarity': 0.0, 'subjectivity': 0.0, 'sentiment': 'NEUTRAL'}, {'date': '2019-01-27 16:08:38', 'weekday': 'Sunday', 'text': 'Lucky you', 'polarity': 0.3333333333333333, 'subjectivity': 0.8333333333333334, 'sentiment': 'POSITIVE'}, {'date': '2019-01-27 16:14:40', 'weekday': 'Sunday', 'text': '@akintolaadebola yes Mom 😍', 'polarity': 0.0, 'subjectivity': 0.0, 'sentiment': 'NEUTRAL'}, {'date': '2018-08-30 16:18:08', 'weekday': 'Sunday', 'text': '😃😃✌....', 'polarity': 0.0, 'subjectivity': 0.0, 'sentiment': 'NEUTRAL'}, {'date': '2018-12-18 17:45:26', 'weekday': 'Sunday', 'text': 'Good photo✌', 'polarity': 0.7, 'subjectivity': 0.6000000000000001, 'sentiment': 'POSITIVE'}, {'date': '2018-07-28 07:40:33', 'weekday': 'Sunday', 'text': 'Thanks bro', 'polarity': 0.2, 'subjectivity': 0.2, 'sentiment': 'POSITIVE'}, {'date': '2018-09-08 18:58:49', 'weekday': 'Sunday', 'text': '✨✨.', 'polarity': 0.0, 'subjectivity': 0.0, 'sentiment': 'NEUTRAL'}]"
   ]
  },
  {
   "cell_type": "code",
   "execution_count": 36,
   "metadata": {},
   "outputs": [
    {
     "name": "stdout",
     "output_type": "stream",
     "text": [
      "<class 'dict'>\n",
      "<class 'list'>\n"
     ]
    }
   ],
   "source": [
    "print(type(result))\n",
    "print(type(retrieved))"
   ]
  },
  {
   "cell_type": "code",
   "execution_count": 37,
   "metadata": {},
   "outputs": [],
   "source": [
    "response = {'result': None,'retrieved': None}"
   ]
  },
  {
   "cell_type": "code",
   "execution_count": 41,
   "metadata": {},
   "outputs": [
    {
     "ename": "ModuleNotFoundError",
     "evalue": "No module named 'numpyencoder'",
     "output_type": "error",
     "traceback": [
      "\u001b[0;31m---------------------------------------------------------------------------\u001b[0m",
      "\u001b[0;31mModuleNotFoundError\u001b[0m                       Traceback (most recent call last)",
      "\u001b[0;32m<ipython-input-41-789f12449870>\u001b[0m in \u001b[0;36m<module>\u001b[0;34m\u001b[0m\n\u001b[1;32m      1\u001b[0m \u001b[0;31m# response['result'] = result\u001b[0m\u001b[0;34m\u001b[0m\u001b[0;34m\u001b[0m\u001b[0;34m\u001b[0m\u001b[0m\n\u001b[1;32m      2\u001b[0m \u001b[0;31m# response['retrieved'] = retrieved\u001b[0m\u001b[0;34m\u001b[0m\u001b[0;34m\u001b[0m\u001b[0;34m\u001b[0m\u001b[0m\n\u001b[0;32m----> 3\u001b[0;31m \u001b[0;32mfrom\u001b[0m \u001b[0mnumpyencoder\u001b[0m \u001b[0;32mimport\u001b[0m \u001b[0mNumpyEncoder\u001b[0m\u001b[0;34m\u001b[0m\u001b[0;34m\u001b[0m\u001b[0m\n\u001b[0m\u001b[1;32m      4\u001b[0m \u001b[0;34m\u001b[0m\u001b[0m\n\u001b[1;32m      5\u001b[0m response = {'result': result, 'retrieved': json.dump(retrieved, indent=4, sort_keys=True,\n",
      "\u001b[0;31mModuleNotFoundError\u001b[0m: No module named 'numpyencoder'"
     ]
    }
   ],
   "source": [
    "# response['result'] = result\n",
    "# response['retrieved'] = retrieved\n",
    "from numpyencoder import NumpyEncoder\n",
    "\n",
    "response = {'result': result, 'retrieved': json.dump(retrieved, indent=4, sort_keys=True,\n",
    "              separators=(', ', ': '), ensure_ascii=False,\n",
    "              cls=NumpyEncoder)}\n",
    "\n",
    "print(response)\n",
    "\n",
    "\n",
    "\n",
    "# list_3['e'].append(list_2)"
   ]
  },
  {
   "cell_type": "code",
   "execution_count": 2,
   "metadata": {},
   "outputs": [
    {
     "name": "stdout",
     "output_type": "stream",
     "text": [
      "OrderedDict([('rajnish', '9'), ('ravi', '10'), ('sanjeev', '15'), ('suraj', '32'), ('yash', '2')])\n"
     ]
    }
   ],
   "source": [
    "# Creates a sorted dictionary (sorted by key) \n",
    "from collections import OrderedDict \n",
    "  \n",
    "dict = {'ravi':'10','rajnish':'9','sanjeev':'15','yash':'2','suraj':'32'} \n",
    "dict1 = OrderedDict(sorted(dict.items())) \n",
    "print(dict1)"
   ]
  },
  {
   "cell_type": "code",
   "execution_count": 4,
   "metadata": {},
   "outputs": [
    {
     "ename": "SyntaxError",
     "evalue": "invalid syntax (<ipython-input-4-42e71d9a9046>, line 1)",
     "output_type": "error",
     "traceback": [
      "\u001b[0;36m  File \u001b[0;32m\"<ipython-input-4-42e71d9a9046>\"\u001b[0;36m, line \u001b[0;32m1\u001b[0m\n\u001b[0;31m    data = ['aaa':'aaaa']\u001b[0m\n\u001b[0m                 ^\u001b[0m\n\u001b[0;31mSyntaxError\u001b[0m\u001b[0;31m:\u001b[0m invalid syntax\n"
     ]
    }
   ],
   "source": [
    "data = ['aaa':'aaaa']"
   ]
  },
  {
   "cell_type": "code",
   "execution_count": null,
   "metadata": {},
   "outputs": [],
   "source": []
  }
 ],
 "metadata": {
  "kernelspec": {
   "display_name": "Python 3",
   "language": "python",
   "name": "python3"
  },
  "language_info": {
   "codemirror_mode": {
    "name": "ipython",
    "version": 3
   },
   "file_extension": ".py",
   "mimetype": "text/x-python",
   "name": "python",
   "nbconvert_exporter": "python",
   "pygments_lexer": "ipython3",
   "version": "3.7.4"
  }
 },
 "nbformat": 4,
 "nbformat_minor": 4
}
